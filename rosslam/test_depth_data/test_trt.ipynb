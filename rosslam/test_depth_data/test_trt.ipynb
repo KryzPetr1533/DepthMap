{
 "cells": [
  {
   "cell_type": "code",
   "execution_count": 1,
   "metadata": {},
   "outputs": [],
   "source": [
    "import cv2 as cv\n",
    "import os\n",
    "import tensorrt as trt\n",
    "import logging as logger\n"
   ]
  },
  {
   "cell_type": "code",
   "execution_count": 2,
   "metadata": {},
   "outputs": [
    {
     "data": {
      "text/plain": [
       "'10.1.0'"
      ]
     },
     "execution_count": 2,
     "metadata": {},
     "output_type": "execute_result"
    }
   ],
   "source": [
    "trt.__version__"
   ]
  },
  {
   "cell_type": "code",
   "execution_count": 3,
   "metadata": {},
   "outputs": [],
   "source": [
    "def load_trt_engine(engine_path):\n",
    "        '''\n",
    "        Load TRT engine\n",
    "        '''\n",
    "        TRT_LOGGER = trt.Logger(trt.Logger.INFO)\n",
    "        if not os.path.exists(engine_path):\n",
    "            logger.error(f\"Engine file not found at {engine_path}\")\n",
    "            return None\n",
    "        \n",
    "        with open(engine_path, 'rb') as f, trt.Runtime(TRT_LOGGER) as runtime:\n",
    "            try:\n",
    "                engine = runtime.deserialize_cuda_engine(f.read())\n",
    "                if engine is None:\n",
    "                    script_dir = os.path.dirname(os.path.realpath(__file__))\n",
    "                    logger.error(f\"Failed to load engine from {script_dir}\")\n",
    "                return engine\n",
    "            except Exception as e:\n",
    "                logger.error(f\"Exception while loading engine: {e}\")\n",
    "                return None\n",
    "    \n",
    "def get_intrinsics(file_path):\n",
    "    # Open the file storage for reading\n",
    "    cv_file = cv.FileStorage(file_path, cv.FILE_STORAGE_READ)\n",
    "\n",
    "    intrinsics = {}\n",
    "    # Read the left stereo map (x coordinates)\n",
    "    intrinsics['Left_Stereo_Map_x'] = cv_file.getNode(\"Left_Stereo_Map_x\").mat()\n",
    "\n",
    "    # Read the left stereo map (y coordinates)\n",
    "    intrinsics['Left_Stereo_Map_y'] = cv_file.getNode(\"Left_Stereo_Map_y\").mat()\n",
    "\n",
    "    # Read the right stereo map (x coordinates)\n",
    "    intrinsics['Right_Stereo_Map_x'] = cv_file.getNode(\"Right_Stereo_Map_x\").mat()\n",
    "\n",
    "    # Read the right stereo map (y coordinates)\n",
    "    intrinsics['Right_Stereo_Map_y'] = cv_file.getNode(\"Right_Stereo_Map_y\").mat()\n",
    "\n",
    "    # Read the rectified camera matrix\n",
    "    intrinsics['Rectifyed_mat_left'] = cv_file.getNode(\"Rectifyed_mat_left\").mat()\n",
    "    intrinsics['Mat_left'] = cv_file.getNode(\"Mat_left\").mat()\n",
    "\n",
    "    # Read the baseline (distance between the two cameras)\n",
    "    intrinsics['Baseline'] = cv_file.getNode(\"Baseline\").real()\n",
    "\n",
    "    return intrinsics"
   ]
  },
  {
   "cell_type": "code",
   "execution_count": 4,
   "metadata": {},
   "outputs": [
    {
     "name": "stdout",
     "output_type": "stream",
     "text": [
      "[08/14/2024-14:28:12] [TRT] [I] Loaded engine size: 7 MiB\n",
      "[08/14/2024-14:28:12] [TRT] [W] Using an engine plan file across different models of devices is not recommended and is likely to affect performance or even cause errors.\n",
      "[08/14/2024-14:28:12] [TRT] [I] [MS] Running engine with multi stream info\n",
      "[08/14/2024-14:28:12] [TRT] [I] [MS] Number of aux streams is 2\n",
      "[08/14/2024-14:28:12] [TRT] [I] [MS] Number of total worker streams is 3\n",
      "[08/14/2024-14:28:12] [TRT] [I] [MS] The main stream provided by execute/enqueue calls is the first worker stream\n",
      "[08/14/2024-14:28:12] [TRT] [I] [MemUsageChange] TensorRT-managed allocation in IExecutionContext creation: CPU +0, GPU +690, now: CPU 0, GPU 764 (MiB)\n"
     ]
    }
   ],
   "source": [
    "engine = load_trt_engine('/var/model_converter/model.engine')\n",
    "if engine is None:\n",
    "    logger.error(\"Failed to load TensorRT engine.\")\n",
    "\n",
    "\n",
    "execution_context = engine.create_execution_context()\n",
    "if execution_context is None:\n",
    "    logger.error(\"Failed to create TensorRT execution context.\")\n",
    "intrinsics = get_intrinsics('/var/camera_params/intrinsics.xml')"
   ]
  },
  {
   "cell_type": "code",
   "execution_count": 5,
   "metadata": {},
   "outputs": [],
   "source": [
    "# Inspect the inputs of the TensorRT engine\n",
    "def inspect_inputs(engine):\n",
    "    for binding in engine:\n",
    "        if engine.binding_is_input(binding):\n",
    "            input_shape = engine.get_binding_shape(binding)\n",
    "            input_dtype = engine.get_binding_dtype(binding)\n",
    "            print(f\"Input Name: {binding}\")\n",
    "            print(f\"Input Shape: {input_shape}\")\n",
    "            print(f\"Input Data Type: {input_dtype}\\n\")"
   ]
  },
  {
   "cell_type": "code",
   "execution_count": 26,
   "metadata": {},
   "outputs": [
    {
     "data": {
      "text/plain": [
       "720"
      ]
     },
     "execution_count": 26,
     "metadata": {},
     "output_type": "execute_result"
    }
   ],
   "source": [
    "engine.get_tensor_shape(engine.get_tensor_name(0))"
   ]
  }
 ],
 "metadata": {
  "kernelspec": {
   "display_name": "Python 3 (ipykernel)",
   "language": "python",
   "name": "python3"
  },
  "language_info": {
   "codemirror_mode": {
    "name": "ipython",
    "version": 3
   },
   "file_extension": ".py",
   "mimetype": "text/x-python",
   "name": "python",
   "nbconvert_exporter": "python",
   "pygments_lexer": "ipython3",
   "version": "3.10.12"
  }
 },
 "nbformat": 4,
 "nbformat_minor": 2
}
